{
  "nbformat": 4,
  "nbformat_minor": 0,
  "metadata": {
    "kernelspec": {
      "display_name": "Python 3",
      "language": "python",
      "name": "python3"
    },
    "language_info": {
      "codemirror_mode": {
        "name": "ipython",
        "version": 3
      },
      "file_extension": ".py",
      "mimetype": "text/x-python",
      "name": "python",
      "nbconvert_exporter": "python",
      "pygments_lexer": "ipython3",
      "version": "3.5.3"
    },
    "colab": {
      "name": "2) Training Example.ipynb",
      "provenance": []
    }
  },
  "cells": [
    {
      "cell_type": "markdown",
      "metadata": {
        "id": "fXWput_kclfq"
      },
      "source": [
        "#### 2) Training Decoders in Practice\n",
        "\n",
        "Now that we have discussed the conceptual foundations, strategies and techniques involved, we will provide detailed examples of how train decoders via the procedures discussed. In particular, in this notebook we will walk through a very simple script for training a decoder with a given set of hyper-parameters, providing the foundation for a later discussion concerning how to obtain optimal decoders for a range of error rates through an iterative training procedure involving a hyper-parameter optimization for each error rate (see the companion notebook \"Large Scale Iterative Training\"). \n",
        "\n",
        "##### 2a) Requirements\n",
        "\n",
        "The following packages are required, and can be installed via PIP:\n",
        "\n",
        "<ol>\n",
        "  <li> Python 3 (with numpy and scipy)</li>\n",
        "  <li> tensorflow </li>\n",
        "  <li> keras </li> \n",
        "  <li> gym </li> \n",
        "</ol> \n",
        "\n",
        "In addition, a modified version of the Keras-RL package is required, which should be installed from <a href=\"https://github.com/R-Sweke/keras-rl\">this fork</a>"
      ]
    },
    {
      "cell_type": "markdown",
      "metadata": {
        "id": "UgLr_GFaclfr"
      },
      "source": [
        "##### 2b) A Simple Training Script\n",
        "\n",
        "We begin by importing all required packages and methods:"
      ]
    },
    {
      "cell_type": "code",
      "metadata": {
        "id": "JqiRmeWkcnGS",
        "outputId": "e60ef994-e89a-4d6d-f9c7-abe2a590ed23",
        "colab": {
          "base_uri": "https://localhost:8080/"
        }
      },
      "source": [
        "! pip install tensorflow \n",
        "! pip install keras \n",
        "! pip install gym\n",
        "! pip install keras-rl"
      ],
      "execution_count": 1,
      "outputs": [
        {
          "output_type": "stream",
          "text": [
            "Requirement already satisfied: tensorflow in /usr/local/lib/python3.6/dist-packages (2.3.0)\n",
            "Requirement already satisfied: tensorboard<3,>=2.3.0 in /usr/local/lib/python3.6/dist-packages (from tensorflow) (2.3.0)\n",
            "Requirement already satisfied: gast==0.3.3 in /usr/local/lib/python3.6/dist-packages (from tensorflow) (0.3.3)\n",
            "Requirement already satisfied: scipy==1.4.1 in /usr/local/lib/python3.6/dist-packages (from tensorflow) (1.4.1)\n",
            "Requirement already satisfied: wrapt>=1.11.1 in /usr/local/lib/python3.6/dist-packages (from tensorflow) (1.12.1)\n",
            "Requirement already satisfied: keras-preprocessing<1.2,>=1.1.1 in /usr/local/lib/python3.6/dist-packages (from tensorflow) (1.1.2)\n",
            "Requirement already satisfied: termcolor>=1.1.0 in /usr/local/lib/python3.6/dist-packages (from tensorflow) (1.1.0)\n",
            "Requirement already satisfied: numpy<1.19.0,>=1.16.0 in /usr/local/lib/python3.6/dist-packages (from tensorflow) (1.18.5)\n",
            "Requirement already satisfied: wheel>=0.26 in /usr/local/lib/python3.6/dist-packages (from tensorflow) (0.35.1)\n",
            "Requirement already satisfied: six>=1.12.0 in /usr/local/lib/python3.6/dist-packages (from tensorflow) (1.15.0)\n",
            "Requirement already satisfied: protobuf>=3.9.2 in /usr/local/lib/python3.6/dist-packages (from tensorflow) (3.12.4)\n",
            "Requirement already satisfied: grpcio>=1.8.6 in /usr/local/lib/python3.6/dist-packages (from tensorflow) (1.33.1)\n",
            "Requirement already satisfied: absl-py>=0.7.0 in /usr/local/lib/python3.6/dist-packages (from tensorflow) (0.10.0)\n",
            "Requirement already satisfied: h5py<2.11.0,>=2.10.0 in /usr/local/lib/python3.6/dist-packages (from tensorflow) (2.10.0)\n",
            "Requirement already satisfied: opt-einsum>=2.3.2 in /usr/local/lib/python3.6/dist-packages (from tensorflow) (3.3.0)\n",
            "Requirement already satisfied: astunparse==1.6.3 in /usr/local/lib/python3.6/dist-packages (from tensorflow) (1.6.3)\n",
            "Requirement already satisfied: google-pasta>=0.1.8 in /usr/local/lib/python3.6/dist-packages (from tensorflow) (0.2.0)\n",
            "Requirement already satisfied: tensorflow-estimator<2.4.0,>=2.3.0 in /usr/local/lib/python3.6/dist-packages (from tensorflow) (2.3.0)\n",
            "Requirement already satisfied: tensorboard-plugin-wit>=1.6.0 in /usr/local/lib/python3.6/dist-packages (from tensorboard<3,>=2.3.0->tensorflow) (1.7.0)\n",
            "Requirement already satisfied: werkzeug>=0.11.15 in /usr/local/lib/python3.6/dist-packages (from tensorboard<3,>=2.3.0->tensorflow) (1.0.1)\n",
            "Requirement already satisfied: google-auth<2,>=1.6.3 in /usr/local/lib/python3.6/dist-packages (from tensorboard<3,>=2.3.0->tensorflow) (1.17.2)\n",
            "Requirement already satisfied: setuptools>=41.0.0 in /usr/local/lib/python3.6/dist-packages (from tensorboard<3,>=2.3.0->tensorflow) (50.3.2)\n",
            "Requirement already satisfied: markdown>=2.6.8 in /usr/local/lib/python3.6/dist-packages (from tensorboard<3,>=2.3.0->tensorflow) (3.3.2)\n",
            "Requirement already satisfied: google-auth-oauthlib<0.5,>=0.4.1 in /usr/local/lib/python3.6/dist-packages (from tensorboard<3,>=2.3.0->tensorflow) (0.4.1)\n",
            "Requirement already satisfied: requests<3,>=2.21.0 in /usr/local/lib/python3.6/dist-packages (from tensorboard<3,>=2.3.0->tensorflow) (2.23.0)\n",
            "Requirement already satisfied: pyasn1-modules>=0.2.1 in /usr/local/lib/python3.6/dist-packages (from google-auth<2,>=1.6.3->tensorboard<3,>=2.3.0->tensorflow) (0.2.8)\n",
            "Requirement already satisfied: rsa<5,>=3.1.4; python_version >= \"3\" in /usr/local/lib/python3.6/dist-packages (from google-auth<2,>=1.6.3->tensorboard<3,>=2.3.0->tensorflow) (4.6)\n",
            "Requirement already satisfied: cachetools<5.0,>=2.0.0 in /usr/local/lib/python3.6/dist-packages (from google-auth<2,>=1.6.3->tensorboard<3,>=2.3.0->tensorflow) (4.1.1)\n",
            "Requirement already satisfied: importlib-metadata; python_version < \"3.8\" in /usr/local/lib/python3.6/dist-packages (from markdown>=2.6.8->tensorboard<3,>=2.3.0->tensorflow) (2.0.0)\n",
            "Requirement already satisfied: requests-oauthlib>=0.7.0 in /usr/local/lib/python3.6/dist-packages (from google-auth-oauthlib<0.5,>=0.4.1->tensorboard<3,>=2.3.0->tensorflow) (1.3.0)\n",
            "Requirement already satisfied: certifi>=2017.4.17 in /usr/local/lib/python3.6/dist-packages (from requests<3,>=2.21.0->tensorboard<3,>=2.3.0->tensorflow) (2020.6.20)\n",
            "Requirement already satisfied: idna<3,>=2.5 in /usr/local/lib/python3.6/dist-packages (from requests<3,>=2.21.0->tensorboard<3,>=2.3.0->tensorflow) (2.10)\n",
            "Requirement already satisfied: chardet<4,>=3.0.2 in /usr/local/lib/python3.6/dist-packages (from requests<3,>=2.21.0->tensorboard<3,>=2.3.0->tensorflow) (3.0.4)\n",
            "Requirement already satisfied: urllib3!=1.25.0,!=1.25.1,<1.26,>=1.21.1 in /usr/local/lib/python3.6/dist-packages (from requests<3,>=2.21.0->tensorboard<3,>=2.3.0->tensorflow) (1.24.3)\n",
            "Requirement already satisfied: pyasn1<0.5.0,>=0.4.6 in /usr/local/lib/python3.6/dist-packages (from pyasn1-modules>=0.2.1->google-auth<2,>=1.6.3->tensorboard<3,>=2.3.0->tensorflow) (0.4.8)\n",
            "Requirement already satisfied: zipp>=0.5 in /usr/local/lib/python3.6/dist-packages (from importlib-metadata; python_version < \"3.8\"->markdown>=2.6.8->tensorboard<3,>=2.3.0->tensorflow) (3.3.1)\n",
            "Requirement already satisfied: oauthlib>=3.0.0 in /usr/local/lib/python3.6/dist-packages (from requests-oauthlib>=0.7.0->google-auth-oauthlib<0.5,>=0.4.1->tensorboard<3,>=2.3.0->tensorflow) (3.1.0)\n",
            "Requirement already satisfied: keras in /usr/local/lib/python3.6/dist-packages (2.4.3)\n",
            "Requirement already satisfied: pyyaml in /usr/local/lib/python3.6/dist-packages (from keras) (3.13)\n",
            "Requirement already satisfied: numpy>=1.9.1 in /usr/local/lib/python3.6/dist-packages (from keras) (1.18.5)\n",
            "Requirement already satisfied: h5py in /usr/local/lib/python3.6/dist-packages (from keras) (2.10.0)\n",
            "Requirement already satisfied: scipy>=0.14 in /usr/local/lib/python3.6/dist-packages (from keras) (1.4.1)\n",
            "Requirement already satisfied: six in /usr/local/lib/python3.6/dist-packages (from h5py->keras) (1.15.0)\n",
            "Requirement already satisfied: gym in /usr/local/lib/python3.6/dist-packages (0.17.3)\n",
            "Requirement already satisfied: cloudpickle<1.7.0,>=1.2.0 in /usr/local/lib/python3.6/dist-packages (from gym) (1.3.0)\n",
            "Requirement already satisfied: scipy in /usr/local/lib/python3.6/dist-packages (from gym) (1.4.1)\n",
            "Requirement already satisfied: numpy>=1.10.4 in /usr/local/lib/python3.6/dist-packages (from gym) (1.18.5)\n",
            "Requirement already satisfied: pyglet<=1.5.0,>=1.4.0 in /usr/local/lib/python3.6/dist-packages (from gym) (1.5.0)\n",
            "Requirement already satisfied: future in /usr/local/lib/python3.6/dist-packages (from pyglet<=1.5.0,>=1.4.0->gym) (0.16.0)\n",
            "Collecting keras-rl\n",
            "\u001b[?25l  Downloading https://files.pythonhosted.org/packages/ab/87/4b57eff8e4bd834cea0a75cd6c58198c9e42be29b600db9c14fafa72ec07/keras-rl-0.4.2.tar.gz (40kB)\n",
            "\u001b[K     |████████████████████████████████| 40kB 1.8MB/s \n",
            "\u001b[?25hRequirement already satisfied: keras>=2.0.7 in /usr/local/lib/python3.6/dist-packages (from keras-rl) (2.4.3)\n",
            "Requirement already satisfied: numpy>=1.9.1 in /usr/local/lib/python3.6/dist-packages (from keras>=2.0.7->keras-rl) (1.18.5)\n",
            "Requirement already satisfied: pyyaml in /usr/local/lib/python3.6/dist-packages (from keras>=2.0.7->keras-rl) (3.13)\n",
            "Requirement already satisfied: scipy>=0.14 in /usr/local/lib/python3.6/dist-packages (from keras>=2.0.7->keras-rl) (1.4.1)\n",
            "Requirement already satisfied: h5py in /usr/local/lib/python3.6/dist-packages (from keras>=2.0.7->keras-rl) (2.10.0)\n",
            "Requirement already satisfied: six in /usr/local/lib/python3.6/dist-packages (from h5py->keras>=2.0.7->keras-rl) (1.15.0)\n",
            "Building wheels for collected packages: keras-rl\n",
            "  Building wheel for keras-rl (setup.py) ... \u001b[?25l\u001b[?25hdone\n",
            "  Created wheel for keras-rl: filename=keras_rl-0.4.2-cp36-none-any.whl size=48381 sha256=bd166d81e5913bc71be4e06e1be5392967c2871505353bd9af75d5eae7a361ae\n",
            "  Stored in directory: /root/.cache/pip/wheels/7d/4d/84/9254c9f2e8f51865cb0dac8e79da85330c735551d31f73c894\n",
            "Successfully built keras-rl\n",
            "Installing collected packages: keras-rl\n",
            "Successfully installed keras-rl-0.4.2\n"
          ],
          "name": "stdout"
        }
      ]
    },
    {
      "cell_type": "code",
      "metadata": {
        "id": "gA-obWUpclfs",
        "outputId": "800782b7-0884-42e1-dacf-58d2079bcef1",
        "colab": {
          "base_uri": "https://localhost:8080/",
          "height": 367
        }
      },
      "source": [
        "import numpy as np\n",
        "import keras\n",
        "import tensorflow\n",
        "import gym\n",
        "\n",
        "from Function_Library import *\n",
        "from Environments import *\n",
        "\n",
        "import rl as rl\n",
        "from rl.agents.dqn import DQNAgent\n",
        "from rl.policy import BoltzmannQPolicy, EpsGreedyQPolicy, LinearAnnealedPolicy, GreedyQPolicy\n",
        "from rl.memory import SequentialMemory\n",
        "from rl.callbacks import FileLogger\n",
        "\n",
        "import json\n",
        "import copy\n",
        "import sys\n",
        "import os\n",
        "import shutil\n",
        "import datetime\n",
        "import pickle"
      ],
      "execution_count": 2,
      "outputs": [
        {
          "output_type": "error",
          "ename": "ModuleNotFoundError",
          "evalue": "ignored",
          "traceback": [
            "\u001b[0;31m---------------------------------------------------------------------------\u001b[0m",
            "\u001b[0;31mModuleNotFoundError\u001b[0m                       Traceback (most recent call last)",
            "\u001b[0;32m<ipython-input-2-3ebe256ad8a9>\u001b[0m in \u001b[0;36m<module>\u001b[0;34m()\u001b[0m\n\u001b[1;32m      4\u001b[0m \u001b[0;32mimport\u001b[0m \u001b[0mgym\u001b[0m\u001b[0;34m\u001b[0m\u001b[0;34m\u001b[0m\u001b[0m\n\u001b[1;32m      5\u001b[0m \u001b[0;34m\u001b[0m\u001b[0m\n\u001b[0;32m----> 6\u001b[0;31m \u001b[0;32mfrom\u001b[0m \u001b[0mFunction_Library\u001b[0m \u001b[0;32mimport\u001b[0m \u001b[0;34m*\u001b[0m\u001b[0;34m\u001b[0m\u001b[0;34m\u001b[0m\u001b[0m\n\u001b[0m\u001b[1;32m      7\u001b[0m \u001b[0;32mfrom\u001b[0m \u001b[0mEnvironments\u001b[0m \u001b[0;32mimport\u001b[0m \u001b[0;34m*\u001b[0m\u001b[0;34m\u001b[0m\u001b[0;34m\u001b[0m\u001b[0m\n\u001b[1;32m      8\u001b[0m \u001b[0;34m\u001b[0m\u001b[0m\n",
            "\u001b[0;31mModuleNotFoundError\u001b[0m: No module named 'Function_Library'",
            "",
            "\u001b[0;31m---------------------------------------------------------------------------\u001b[0;32m\nNOTE: If your import is failing due to a missing package, you can\nmanually install dependencies using either !pip or !apt.\n\nTo view examples of installing some common dependencies, click the\n\"Open Examples\" button below.\n\u001b[0;31m---------------------------------------------------------------------------\u001b[0m\n"
          ]
        }
      ]
    },
    {
      "cell_type": "markdown",
      "metadata": {
        "id": "34QQLZ7oclfx"
      },
      "source": [
        "We then proceed by providing all required hyperparameters and physical configuration settings. In order to allow for easier grid searching and incremented training later on we choose to split all hyperparameters into two categories:\n",
        "\n",
        "   - fixed configs: These remain constant during the course of a grid search or incremented training procedure.\n",
        "   - variable configs: We will later set up training grids over these hyperparameters.\n",
        "    \n",
        "In particular, the fixed parameters one must provide are:\n",
        "\n",
        "   1. **d**: The lattice width (equal to the lattice height)\n",
        "   - **use_Y**: If true then the agent can perform Y Pauli flips directly, if False then the agent can only perform X and Z Pauli flips.\n",
        "   - **train_freq**: The number of agent-environment interaction steps which occur between each updating of the agent's weights.\n",
        "   - **batch_size**: The size of batches used for calculating loss functions for gradient descent updates of agent weights.\n",
        "   - **print_freq**: Every print_freq episodes the statistics of the training procedure will be logged.\n",
        "   - **rolling_average_length**: The number of most recent episodes over which any relevant rolling average will be calculated.\n",
        "   - **stopping_patience**: The number of episodes after which no improvement will result in the early stopping of the training procedure.\n",
        "   - **error_model**: A string in [\"X\", \"DP\"], specifiying the noise model of the environment as X flips only or depolarizing noise.\n",
        "   - **c_layers**: A list of lists specifying the structure of the convolutional layers of the agent deepQ network. Each inner list describes a layer and has the form [num_filters, filter_width, stride].\n",
        "   - **ff_layers**: A list of lists specifying the structure of the feed-forward neural network sitting on top of the convolutional neural network. Each inner list has the form [num_neurons, output_dropout_rate].\n",
        "   - **max_timesteps**: The maximum number of training timesteps allowed.\n",
        "   - **volume_depth**: The number of syndrome measurements taken each time a new syndrome extraction is performed - i.e. the depth of the syndrome volume passed to the agent.\n",
        "   - **testing_length**: The number of episodes uses to evaluate the trained agents performance. \n",
        "   - **buffer_size**: The maximum number of experience tuples held in the memory from which the update batches for agent updating are drawn.\n",
        "   - **dueling**: A boolean indicating whether or not a [dueling architecture](https://arxiv.org/abs/1511.06581) should be used.\n",
        "   - **masked_greedy**: A boolean which indicates whether the agent will only be allowed to choose legal actions (actions next to an anyon or previously flipped qubit) when acting greedily (i.e. when choosing actions via the argmax of the Q-values)\n",
        "   - **static_decoder**: For training within the fault tolerant setting (multi-cycle decoding) this should always be set to True.\n",
        "   \n",
        "In addition, the parameters which we will later incrementally vary or grid search around are:\n",
        "\n",
        "   1. **p_phys**: The physical error probability\n",
        "   2. **p_meas**: The measurement error probability\n",
        "   3. **success_threshold**: The qubit lifetime rolling average at which training has been deemed succesfull and will be stopped.\n",
        "   4. **learning_starts**: The number of initial steps taken to contribute experience tuples to memory before any weight updates are made.\n",
        "   5. **learning_rate**: The learning rate for gradient descent optimization (via the Adam optimizer)\n",
        "   6. **exploration_fraction**: The number of time steps over which epsilon, the parameter controlling the probability of a random explorative action, is annealed.\n",
        "   7. **max_eps**: The initial maximum value of epsilon.\n",
        "   8. **target_network_update_freq**: In order to achieve stable training, a target network is cloned off from the active deepQ agent every target_network_update_freq interval of steps. This target network is then used to generate the target Q-function over the following interval.\n",
        "   9. **gamma**: The discount rate used for calculating the expected discounted cumulative return (the Q-values).\n",
        "   10. **final_eps**: The final value at which annealing of epsilon will be stopped.\n",
        "   \n",
        "Furthermore, in addition to all the above parameters one must provide a directory into which results and training progress as logged, as well as the path to a pre-trained referee decoder. Here e provide two pre-trained feed forward classification based referee decoders, one for X noise and one for DP noise. However, in principle any perfect-measurement decoding algorithm (such as MWPM) could be used here."
      ]
    },
    {
      "cell_type": "code",
      "metadata": {
        "id": "ayHFKH_jclfx"
      },
      "source": [
        "fixed_configs = {\"d\": 5,\n",
        "                \"use_Y\": False,\n",
        "                \"train_freq\": 1,\n",
        "                \"batch_size\": 32,\n",
        "                \"print_freq\": 250,\n",
        "                \"rolling_average_length\": 500,\n",
        "                \"stopping_patience\": 500,\n",
        "                \"error_model\": \"X\",\n",
        "                \"c_layers\": [[64,3,2],[32,2,1],[32,2,1]],\n",
        "                \"ff_layers\": [[512,0.2]],\n",
        "                \"max_timesteps\": 1000000,\n",
        "                \"volume_depth\": 5,\n",
        "                \"testing_length\": 101,\n",
        "                \"buffer_size\": 50000,\n",
        "                \"dueling\": True,\n",
        "                \"masked_greedy\": False,\n",
        "                \"static_decoder\": True}\n",
        "\n",
        "variable_configs = {\"p_phys\": 0.001,\n",
        "                    \"p_meas\": 0.001,\n",
        "                    \"success_threshold\": 10000,\n",
        "                    \"learning_starts\": 1000,\n",
        "                    \"learning_rate\": 0.00001,\n",
        "                    \"exploration_fraction\": 100000,\n",
        "                    \"max_eps\": 1.0,\n",
        "                    \"target_network_update_freq\": 5000,\n",
        "                    \"gamma\": 0.99,\n",
        "                    \"final_eps\": 0.02}\n",
        "\n",
        "logging_directory = os.path.join(os.getcwd(),\"logging_directory/\")\n",
        "static_decoder_path = os.path.join(os.getcwd(),\"referee_decoders/nn_d5_X_p5\")\n",
        "\n",
        "\n",
        "all_configs = {}\n",
        "\n",
        "for key in fixed_configs.keys():\n",
        "    all_configs[key] = fixed_configs[key]\n",
        "\n",
        "for key in variable_configs.keys():\n",
        "    all_configs[key] = variable_configs[key]\n",
        "\n",
        "static_decoder = load_model(static_decoder_path)                                                 \n",
        "logging_path = os.path.join(logging_directory,\"training_history.json\")\n",
        "logging_callback = FileLogger(filepath = logging_path,interval = all_configs[\"print_freq\"])"
      ],
      "execution_count": null,
      "outputs": []
    },
    {
      "cell_type": "markdown",
      "metadata": {
        "id": "-lyxVzs8clf0"
      },
      "source": [
        "Now that we have specified all the required parameters we can instantiate our environment:"
      ]
    },
    {
      "cell_type": "code",
      "metadata": {
        "id": "OyT68vM5clf1"
      },
      "source": [
        "env = Surface_Code_Environment_Multi_Decoding_Cycles(d=all_configs[\"d\"], \n",
        "    p_phys=all_configs[\"p_phys\"], \n",
        "    p_meas=all_configs[\"p_meas\"],  \n",
        "    error_model=all_configs[\"error_model\"], \n",
        "    use_Y=all_configs[\"use_Y\"], \n",
        "    volume_depth=all_configs[\"volume_depth\"],\n",
        "    static_decoder=static_decoder)"
      ],
      "execution_count": null,
      "outputs": []
    },
    {
      "cell_type": "markdown",
      "metadata": {
        "id": "b6j9ft1pclf4"
      },
      "source": [
        "The environment class is defined to mirror the environments of [https://gym.openai.com/](openAI gym), and such contains the required \"reset\" and \"step\" methods, via which the agent can interact with the environment, in addition to decoding specific methods and attributes whose details can be found in the relevant method docstrings."
      ]
    },
    {
      "cell_type": "markdown",
      "metadata": {
        "id": "qn4_-YYFclf5"
      },
      "source": [
        "We can now proceed to define the agent. We being by specifying the memory to be used, as well as the exploration and testing policies."
      ]
    },
    {
      "cell_type": "code",
      "metadata": {
        "id": "27Jo9uNJclf5"
      },
      "source": [
        "memory = SequentialMemory(limit=all_configs[\"buffer_size\"], window_length=1)\n",
        "\n",
        "policy = LinearAnnealedPolicy(EpsGreedyQPolicy(masked_greedy=all_configs[\"masked_greedy\"]), \n",
        "    attr='eps', value_max=all_configs[\"max_eps\"], \n",
        "    value_min=all_configs[\"final_eps\"], \n",
        "    value_test=0.0, \n",
        "    nb_steps=all_configs[\"exploration_fraction\"])\n",
        "\n",
        "test_policy = GreedyQPolicy(masked_greedy=True)"
      ],
      "execution_count": null,
      "outputs": []
    },
    {
      "cell_type": "markdown",
      "metadata": {
        "id": "ZiQ-_37Dclf8"
      },
      "source": [
        "Finally, we can then build the deep convolutional neural network which will represent our Q-function and compile our agent."
      ]
    },
    {
      "cell_type": "code",
      "metadata": {
        "id": "sgpVxXqGclf8"
      },
      "source": [
        "model = build_convolutional_nn(all_configs[\"c_layers\"], \n",
        "                               all_configs[\"ff_layers\"], \n",
        "                               env.observation_space.shape, \n",
        "                               env.num_actions)\n",
        "\n",
        "dqn = DQNAgent(model=model, \n",
        "               nb_actions=env.num_actions, \n",
        "               memory=memory, \n",
        "               nb_steps_warmup=all_configs[\"learning_starts\"], \n",
        "               target_model_update=all_configs[\"target_network_update_freq\"], \n",
        "               policy=policy,\n",
        "               test_policy = test_policy,\n",
        "               gamma = all_configs[\"gamma\"],\n",
        "               enable_dueling_network=all_configs[\"dueling\"])  \n",
        "\n",
        "\n",
        "dqn.compile(Adam(lr=all_configs[\"learning_rate\"]))"
      ],
      "execution_count": null,
      "outputs": []
    },
    {
      "cell_type": "markdown",
      "metadata": {
        "id": "rnATFfYYclf_"
      },
      "source": [
        "With both the agent and the environment specified, it is then possible to train the agent by calling the agent's \"fit\" method. If you want to run this on a single computer, be careful, it may take up to 12 hours!"
      ]
    },
    {
      "cell_type": "code",
      "metadata": {
        "scrolled": true,
        "id": "hLtJawxGclgA"
      },
      "source": [
        "now = datetime.datetime.now()\n",
        "started_file = os.path.join(logging_directory,\"started_at.p\")\n",
        "pickle.dump(now, open(started_file, \"wb\" ) )\n",
        "\n",
        "history = dqn.fit(env, \n",
        "  nb_steps=all_configs[\"max_timesteps\"], \n",
        "  action_repetition=1, \n",
        "  callbacks=[logging_callback], \n",
        "  verbose=2,\n",
        "  visualize=False, \n",
        "  nb_max_start_steps=0, \n",
        "  start_step_policy=None, \n",
        "  log_interval=all_configs[\"print_freq\"],\n",
        "  nb_max_episode_steps=None, \n",
        "  episode_averaging_length=all_configs[\"rolling_average_length\"], \n",
        "  success_threshold=all_configs[\"success_threshold\"],\n",
        "  stopping_patience=all_configs[\"stopping_patience\"],\n",
        "  min_nb_steps=all_configs[\"exploration_fraction\"],\n",
        "  single_cycle=False)"
      ],
      "execution_count": null,
      "outputs": []
    },
    {
      "cell_type": "markdown",
      "metadata": {
        "id": "gywlFIyLclgD"
      },
      "source": [
        "As you can see above, during the training procedure various statistics are logged, both to stdout and to file in the specified directory. As you may notice above we manually stopped training after approximately 7000 seconds while the agent was still improving, and before it has reached the specified success threshold.\n",
        "\n",
        "In order to evaluate the agent later on, or apply the agent in a production decoding scenario we can easily save the weights:"
      ]
    },
    {
      "cell_type": "code",
      "metadata": {
        "id": "kA6MF5JZclgE"
      },
      "source": [
        "weights_file = os.path.join(logging_directory, \"dqn_weights.h5f\")\n",
        "dqn.save_weights(weights_file, overwrite=True)"
      ],
      "execution_count": null,
      "outputs": []
    },
    {
      "cell_type": "markdown",
      "metadata": {
        "id": "a4eeqUpbclgH"
      },
      "source": [
        "And finally, in order to evaluate the training procedure we may be interested in viewing any of the metrics which were logged. These are all saved within the history.history dictionary. For example, we are often most interested in analyzing the training procedure by looking at the rolling average of the qubit lifetime, which we can do as follows:"
      ]
    },
    {
      "cell_type": "code",
      "metadata": {
        "id": "weBkyPSYclgI"
      },
      "source": [
        "from matplotlib import pyplot as plt\n",
        "%matplotlib inline\n",
        "\n",
        "training_history = history.history[\"episode_lifetimes_rolling_avg\"]\n",
        "\n",
        "plt.figure(figsize=(12,7))\n",
        "plt.plot(training_history)\n",
        "plt.xlabel('Episode')\n",
        "plt.ylabel('Rolling Average Qubit Lifetime')\n",
        "_ = plt.title(\"Training History\")"
      ],
      "execution_count": null,
      "outputs": []
    },
    {
      "cell_type": "markdown",
      "metadata": {
        "id": "c__ldWynclgM"
      },
      "source": [
        "From the above plot one can see that during the exploration phase the agent was unable to do well, due to constant exploratory random actions, but was able to exploit this knowledge effectively once the exploration probability became sufficiently low. Again, it is also clear that the agent was definitely still learning and improving when we chose to stop the training procedure."
      ]
    }
  ]
}